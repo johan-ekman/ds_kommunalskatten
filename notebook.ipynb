{
 "cells": [
  {
   "cell_type": "code",
   "execution_count": 1,
   "metadata": {},
   "outputs": [],
   "source": [
    "import pandas as pd\n",
    "\n",
    "import warnings\n",
    "import os\n",
    "\n",
    "import seaborn as sns\n",
    "import matplotlib.pyplot as plt\n",
    "\n",
    "%matplotlib inline"
   ]
  },
  {
   "cell_type": "code",
   "execution_count": 2,
   "metadata": {},
   "outputs": [],
   "source": [
    "warnings.filterwarnings('ignore')"
   ]
  },
  {
   "cell_type": "markdown",
   "metadata": {},
   "source": [
    "**November 2018**\n",
    "\n",
    "Jag fick idén att man borde se vilka kommuner som gjort flest/färst skatteförändringar av alla Sveriges kommuner de senaste åren. Med hjälp av data från SCB och från Kolada, samt i kontakt med SKL för att få fram var det skett skatteväxlingar mellan kommun/landsting, räknades detta ut. Anledningen till att vi behövde få tag på data över skatteväxlingar är eftersom en skattehöjning i en kommun kan bero på en överenskommelse med landstinget att skatteväxla. Det vill säga att kommunen ger upp eller tar över ett ansvarsområde som innefattar beskattning för finansiering. T ex att man tar över busstrafiken i kommunen från landstinget. En sådan skattehöjning är då inte att se som en reell sådan, då invånarnas plånbok inte påverkas. Det är bara en annan mottagare av pengarna. \n",
    "\n",
    "Nedan har skatteväxlingar kontrollerats och tagits bort från resultatet. Resultatet publicerades i nr 2 2019 i tidningen och [finns att läsa här på webben](https://www.dagenssamhalle.se/nyhet/lagskattekommuner-hojer-skatten-mest-25751). "
   ]
  },
  {
   "cell_type": "markdown",
   "metadata": {
    "heading_collapsed": true
   },
   "source": [
    "## Koladadata"
   ]
  },
  {
   "cell_type": "code",
   "execution_count": 3,
   "metadata": {
    "hidden": true
   },
   "outputs": [],
   "source": [
    "df = pd.read_excel('data/kommunalskatt.xls').rename(columns={\n",
    "    'Kommun/Landsting':'kommun'\n",
    "})"
   ]
  },
  {
   "cell_type": "code",
   "execution_count": 4,
   "metadata": {
    "hidden": true
   },
   "outputs": [],
   "source": [
    "df=df.iloc[:,1:]"
   ]
  },
  {
   "cell_type": "code",
   "execution_count": 5,
   "metadata": {
    "hidden": true
   },
   "outputs": [
    {
     "data": {
      "text/plain": [
       "Index(['kommun', 'År', 'Visat Värde'], dtype='object')"
      ]
     },
     "execution_count": 5,
     "metadata": {},
     "output_type": "execute_result"
    }
   ],
   "source": [
    "df.columns"
   ]
  },
  {
   "cell_type": "code",
   "execution_count": 6,
   "metadata": {
    "hidden": true
   },
   "outputs": [],
   "source": [
    "df=df.pivot(index='kommun',columns='År',values='Visat Värde')"
   ]
  },
  {
   "cell_type": "code",
   "execution_count": 7,
   "metadata": {
    "hidden": true
   },
   "outputs": [
    {
     "data": {
      "text/plain": [
       "24"
      ]
     },
     "execution_count": 7,
     "metadata": {},
     "output_type": "execute_result"
    }
   ],
   "source": [
    "len(df.columns)"
   ]
  },
  {
   "cell_type": "code",
   "execution_count": 8,
   "metadata": {
    "hidden": true
   },
   "outputs": [],
   "source": [
    "cols = [x for x in df.columns if x > 2007]"
   ]
  },
  {
   "cell_type": "code",
   "execution_count": 9,
   "metadata": {
    "hidden": true
   },
   "outputs": [],
   "source": [
    "df=df[cols]"
   ]
  },
  {
   "cell_type": "code",
   "execution_count": 10,
   "metadata": {
    "hidden": true
   },
   "outputs": [],
   "source": [
    "def value_checker(df,index,col):\n",
    "    value = df.at[index,col]\n",
    "    counter = 0\n",
    "    for i in range(24):\n",
    "        if value == df.at[index,col-1]:\n",
    "            counter += 1\n",
    "            col -= 1\n",
    "        else:\n",
    "            return counter\n",
    "        "
   ]
  },
  {
   "cell_type": "code",
   "execution_count": 11,
   "metadata": {
    "hidden": true
   },
   "outputs": [],
   "source": [
    "def num_tax_changes(df,index,col,num_years=24):\n",
    "    value = df.at[index,col]\n",
    "    ökning = 0\n",
    "    minskning = 0\n",
    "    for i in range(num_years):\n",
    "        if value != df.at[index,col-1]:\n",
    "            if value < df.at[index,col-1]:\n",
    "                minskning += 1\n",
    "            elif value > df.at[index,col-1]:\n",
    "                ökning += 1\n",
    "            else:\n",
    "                continue\n",
    "            value = df.at[index,col-1]\n",
    "            col -= 1\n",
    "        else:\n",
    "            col -= 1\n",
    "    return (ökning,minskning)\n",
    "        "
   ]
  },
  {
   "cell_type": "code",
   "execution_count": 12,
   "metadata": {
    "hidden": true
   },
   "outputs": [],
   "source": [
    "def skatteändringar(df,start_year=2018,num_years=23):\n",
    "    results = []\n",
    "    for kommun in df.reset_index().kommun.tolist():\n",
    "        row = {}\n",
    "        row['kommun'] = kommun\n",
    "        #row['years_unchanged'] = value_checker(df,kommun,2018)\n",
    "        row['num_changes'] = num_tax_changes(df,index=kommun,col=start_year,num_years=num_years)\n",
    "        results.append(row)\n",
    "    return pd.DataFrame(results)"
   ]
  },
  {
   "cell_type": "code",
   "execution_count": 13,
   "metadata": {
    "hidden": true
   },
   "outputs": [],
   "source": [
    "years=df.columns.tolist()"
   ]
  },
  {
   "cell_type": "code",
   "execution_count": 14,
   "metadata": {
    "hidden": true
   },
   "outputs": [],
   "source": [
    "years.sort(reverse=True)"
   ]
  },
  {
   "cell_type": "code",
   "execution_count": 15,
   "metadata": {
    "hidden": true
   },
   "outputs": [],
   "source": [
    "ph = pd.DataFrame()\n",
    "for year in years[:10]:\n",
    "    ph[year] = skatteändringar(df,start_year=year,num_years=1).iloc[:,-1]"
   ]
  },
  {
   "cell_type": "code",
   "execution_count": 16,
   "metadata": {
    "hidden": true
   },
   "outputs": [],
   "source": [
    "years=ph.columns.tolist()\n",
    "years.sort()"
   ]
  },
  {
   "cell_type": "code",
   "execution_count": 17,
   "metadata": {
    "hidden": true,
    "scrolled": false
   },
   "outputs": [],
   "source": [
    "ph=ph.loc[:,years]"
   ]
  },
  {
   "cell_type": "code",
   "execution_count": 18,
   "metadata": {
    "hidden": true
   },
   "outputs": [],
   "source": [
    "ph['kommun'] = df.reset_index().kommun"
   ]
  },
  {
   "cell_type": "code",
   "execution_count": 19,
   "metadata": {
    "hidden": true
   },
   "outputs": [],
   "source": [
    "ph = ph.set_index('kommun')"
   ]
  },
  {
   "cell_type": "code",
   "execution_count": 20,
   "metadata": {
    "hidden": true
   },
   "outputs": [],
   "source": [
    "results_increase = ph.iloc[:,14:]\n",
    "results_decrease = ph.iloc[:,14:]"
   ]
  },
  {
   "cell_type": "code",
   "execution_count": 21,
   "metadata": {
    "hidden": true
   },
   "outputs": [],
   "source": [
    "for col in results_increase.columns:\n",
    "    results_increase[col] = results_increase[col].apply(lambda x: x[0])\n",
    "    results_decrease[col] = results_decrease[col].apply(lambda x: x[1])\n"
   ]
  },
  {
   "cell_type": "code",
   "execution_count": 22,
   "metadata": {
    "hidden": true
   },
   "outputs": [],
   "source": [
    "frames = {'increase':results_increase.sum().reset_index().rename(columns={\n",
    "    'index':'År',\n",
    "    0:'Antal'\n",
    "}),\n",
    "          'decrease':results_decrease.sum().reset_index().rename(columns={\n",
    "    'index':'År',\n",
    "    0:'Antal'\n",
    "})}"
   ]
  },
  {
   "cell_type": "code",
   "execution_count": 23,
   "metadata": {
    "hidden": true
   },
   "outputs": [
    {
     "data": {
      "text/plain": [
       "{'increase': Empty DataFrame\n",
       " Columns: [År, Antal]\n",
       " Index: [], 'decrease': Empty DataFrame\n",
       " Columns: [År, Antal]\n",
       " Index: []}"
      ]
     },
     "execution_count": 23,
     "metadata": {},
     "output_type": "execute_result"
    }
   ],
   "source": [
    "frames"
   ]
  },
  {
   "cell_type": "markdown",
   "metadata": {},
   "source": [
    "## SCB"
   ]
  },
  {
   "cell_type": "markdown",
   "metadata": {},
   "source": [
    "### Hämtning och grundtvätt av data"
   ]
  },
  {
   "cell_type": "code",
   "execution_count": 24,
   "metadata": {},
   "outputs": [],
   "source": [
    "df=pd.read_excel('data/test.xlsx').reset_index(drop=True).rename(columns={\n",
    "    'Skattesats, total kommunal':'totalt',\n",
    "    'Skattesats till kommun':'kommunskatt',\n",
    "    'Skattesats till landsting':'landstingsskatt'\n",
    "})"
   ]
  },
  {
   "cell_type": "code",
   "execution_count": 25,
   "metadata": {},
   "outputs": [],
   "source": [
    "df.kommun=df.kommun.ffill()"
   ]
  },
  {
   "cell_type": "code",
   "execution_count": 26,
   "metadata": {},
   "outputs": [],
   "source": [
    "df.kommun=df.kommun.apply(lambda x: x[5:]).str.strip()"
   ]
  },
  {
   "cell_type": "code",
   "execution_count": 27,
   "metadata": {},
   "outputs": [],
   "source": [
    "df.år=df.år.astype('int')"
   ]
  },
  {
   "cell_type": "code",
   "execution_count": 28,
   "metadata": {},
   "outputs": [
    {
     "data": {
      "text/html": [
       "<div>\n",
       "<style scoped>\n",
       "    .dataframe tbody tr th:only-of-type {\n",
       "        vertical-align: middle;\n",
       "    }\n",
       "\n",
       "    .dataframe tbody tr th {\n",
       "        vertical-align: top;\n",
       "    }\n",
       "\n",
       "    .dataframe thead th {\n",
       "        text-align: right;\n",
       "    }\n",
       "</style>\n",
       "<table border=\"1\" class=\"dataframe\">\n",
       "  <thead>\n",
       "    <tr style=\"text-align: right;\">\n",
       "      <th></th>\n",
       "      <th>kommun</th>\n",
       "      <th>år</th>\n",
       "      <th>totalt</th>\n",
       "      <th>kommunskatt</th>\n",
       "      <th>landstingsskatt</th>\n",
       "    </tr>\n",
       "  </thead>\n",
       "  <tbody>\n",
       "    <tr>\n",
       "      <th>0</th>\n",
       "      <td>Upplands Väsby</td>\n",
       "      <td>2000</td>\n",
       "      <td>29.90</td>\n",
       "      <td>19.58</td>\n",
       "      <td>10.32</td>\n",
       "    </tr>\n",
       "    <tr>\n",
       "      <th>1</th>\n",
       "      <td>Upplands Väsby</td>\n",
       "      <td>2001</td>\n",
       "      <td>29.90</td>\n",
       "      <td>19.58</td>\n",
       "      <td>10.32</td>\n",
       "    </tr>\n",
       "    <tr>\n",
       "      <th>2</th>\n",
       "      <td>Upplands Väsby</td>\n",
       "      <td>2002</td>\n",
       "      <td>29.90</td>\n",
       "      <td>19.58</td>\n",
       "      <td>10.32</td>\n",
       "    </tr>\n",
       "    <tr>\n",
       "      <th>3</th>\n",
       "      <td>Upplands Väsby</td>\n",
       "      <td>2003</td>\n",
       "      <td>31.20</td>\n",
       "      <td>19.58</td>\n",
       "      <td>11.62</td>\n",
       "    </tr>\n",
       "    <tr>\n",
       "      <th>4</th>\n",
       "      <td>Upplands Väsby</td>\n",
       "      <td>2004</td>\n",
       "      <td>31.85</td>\n",
       "      <td>19.58</td>\n",
       "      <td>12.27</td>\n",
       "    </tr>\n",
       "  </tbody>\n",
       "</table>\n",
       "</div>"
      ],
      "text/plain": [
       "           kommun    år  totalt  kommunskatt  landstingsskatt\n",
       "0  Upplands Väsby  2000   29.90        19.58            10.32\n",
       "1  Upplands Väsby  2001   29.90        19.58            10.32\n",
       "2  Upplands Väsby  2002   29.90        19.58            10.32\n",
       "3  Upplands Väsby  2003   31.20        19.58            11.62\n",
       "4  Upplands Väsby  2004   31.85        19.58            12.27"
      ]
     },
     "execution_count": 28,
     "metadata": {},
     "output_type": "execute_result"
    }
   ],
   "source": [
    "df.head()"
   ]
  },
  {
   "cell_type": "code",
   "execution_count": 29,
   "metadata": {},
   "outputs": [],
   "source": [
    "#cols = [x for x in df.år.unique() if x > 2007]"
   ]
  },
  {
   "cell_type": "code",
   "execution_count": 30,
   "metadata": {},
   "outputs": [],
   "source": [
    "#df=df.loc[df['år'].isin(cols)]"
   ]
  },
  {
   "cell_type": "markdown",
   "metadata": {},
   "source": [
    "Lägg till län:"
   ]
  },
  {
   "cell_type": "code",
   "execution_count": 31,
   "metadata": {},
   "outputs": [],
   "source": [
    "län = pd.read_excel('data/kommun_län.xlsx')"
   ]
  },
  {
   "cell_type": "code",
   "execution_count": 32,
   "metadata": {},
   "outputs": [],
   "source": [
    "df = df.merge(län,on='kommun',how='left')"
   ]
  },
  {
   "cell_type": "code",
   "execution_count": 33,
   "metadata": {},
   "outputs": [],
   "source": [
    "df=df.loc[df['län']!='Gotland']"
   ]
  },
  {
   "cell_type": "code",
   "execution_count": 34,
   "metadata": {},
   "outputs": [],
   "source": [
    "df=df[['län','kommun','år','totalt','kommunskatt','landstingsskatt']]"
   ]
  },
  {
   "cell_type": "markdown",
   "metadata": {},
   "source": [
    "### Beräkna jämförelse med året innan"
   ]
  },
  {
   "cell_type": "code",
   "execution_count": 35,
   "metadata": {},
   "outputs": [],
   "source": [
    "def förändring(df,column):\n",
    "    df[f'förändring_{column}'] = df[column] - df[column].shift(1)\n",
    "    return df"
   ]
  },
  {
   "cell_type": "code",
   "execution_count": 36,
   "metadata": {},
   "outputs": [],
   "source": [
    "for col in df.columns[-2:]:\n",
    "    df = förändring(df,col)"
   ]
  },
  {
   "cell_type": "code",
   "execution_count": 37,
   "metadata": {},
   "outputs": [],
   "source": [
    "df=df.loc[df['år']!=2000]"
   ]
  },
  {
   "cell_type": "code",
   "execution_count": 38,
   "metadata": {},
   "outputs": [
    {
     "data": {
      "text/html": [
       "<div>\n",
       "<style scoped>\n",
       "    .dataframe tbody tr th:only-of-type {\n",
       "        vertical-align: middle;\n",
       "    }\n",
       "\n",
       "    .dataframe tbody tr th {\n",
       "        vertical-align: top;\n",
       "    }\n",
       "\n",
       "    .dataframe thead th {\n",
       "        text-align: right;\n",
       "    }\n",
       "</style>\n",
       "<table border=\"1\" class=\"dataframe\">\n",
       "  <thead>\n",
       "    <tr style=\"text-align: right;\">\n",
       "      <th></th>\n",
       "      <th>län</th>\n",
       "      <th>kommun</th>\n",
       "      <th>år</th>\n",
       "      <th>totalt</th>\n",
       "      <th>kommunskatt</th>\n",
       "      <th>landstingsskatt</th>\n",
       "      <th>förändring_kommunskatt</th>\n",
       "      <th>förändring_landstingsskatt</th>\n",
       "    </tr>\n",
       "  </thead>\n",
       "  <tbody>\n",
       "    <tr>\n",
       "      <th>1</th>\n",
       "      <td>Stockholm</td>\n",
       "      <td>Upplands Väsby</td>\n",
       "      <td>2001</td>\n",
       "      <td>29.90</td>\n",
       "      <td>19.58</td>\n",
       "      <td>10.32</td>\n",
       "      <td>0.0</td>\n",
       "      <td>0.00</td>\n",
       "    </tr>\n",
       "    <tr>\n",
       "      <th>2</th>\n",
       "      <td>Stockholm</td>\n",
       "      <td>Upplands Väsby</td>\n",
       "      <td>2002</td>\n",
       "      <td>29.90</td>\n",
       "      <td>19.58</td>\n",
       "      <td>10.32</td>\n",
       "      <td>0.0</td>\n",
       "      <td>0.00</td>\n",
       "    </tr>\n",
       "    <tr>\n",
       "      <th>3</th>\n",
       "      <td>Stockholm</td>\n",
       "      <td>Upplands Väsby</td>\n",
       "      <td>2003</td>\n",
       "      <td>31.20</td>\n",
       "      <td>19.58</td>\n",
       "      <td>11.62</td>\n",
       "      <td>0.0</td>\n",
       "      <td>1.30</td>\n",
       "    </tr>\n",
       "    <tr>\n",
       "      <th>4</th>\n",
       "      <td>Stockholm</td>\n",
       "      <td>Upplands Väsby</td>\n",
       "      <td>2004</td>\n",
       "      <td>31.85</td>\n",
       "      <td>19.58</td>\n",
       "      <td>12.27</td>\n",
       "      <td>0.0</td>\n",
       "      <td>0.65</td>\n",
       "    </tr>\n",
       "    <tr>\n",
       "      <th>5</th>\n",
       "      <td>Stockholm</td>\n",
       "      <td>Upplands Väsby</td>\n",
       "      <td>2005</td>\n",
       "      <td>31.85</td>\n",
       "      <td>19.58</td>\n",
       "      <td>12.27</td>\n",
       "      <td>0.0</td>\n",
       "      <td>0.00</td>\n",
       "    </tr>\n",
       "  </tbody>\n",
       "</table>\n",
       "</div>"
      ],
      "text/plain": [
       "         län          kommun    år  totalt  kommunskatt  landstingsskatt  \\\n",
       "1  Stockholm  Upplands Väsby  2001   29.90        19.58            10.32   \n",
       "2  Stockholm  Upplands Väsby  2002   29.90        19.58            10.32   \n",
       "3  Stockholm  Upplands Väsby  2003   31.20        19.58            11.62   \n",
       "4  Stockholm  Upplands Väsby  2004   31.85        19.58            12.27   \n",
       "5  Stockholm  Upplands Väsby  2005   31.85        19.58            12.27   \n",
       "\n",
       "   förändring_kommunskatt  förändring_landstingsskatt  \n",
       "1                     0.0                        0.00  \n",
       "2                     0.0                        0.00  \n",
       "3                     0.0                        1.30  \n",
       "4                     0.0                        0.65  \n",
       "5                     0.0                        0.00  "
      ]
     },
     "execution_count": 38,
     "metadata": {},
     "output_type": "execute_result"
    }
   ],
   "source": [
    "df.head()"
   ]
  },
  {
   "cell_type": "code",
   "execution_count": 39,
   "metadata": {},
   "outputs": [],
   "source": [
    "ph = df.copy()"
   ]
  },
  {
   "cell_type": "markdown",
   "metadata": {},
   "source": [
    "### Skatteväxlingar"
   ]
  },
  {
   "cell_type": "code",
   "execution_count": 40,
   "metadata": {},
   "outputs": [],
   "source": [
    "skatteväxling = pd.read_excel('data/skatteväxling_per_län.xlsx').rename(columns={'Skatteförändring skatteväxling':'län'})"
   ]
  },
  {
   "cell_type": "code",
   "execution_count": 41,
   "metadata": {},
   "outputs": [],
   "source": [
    "skatteväxling=skatteväxling.melt(id_vars='län',var_name='år',value_name='skatteväxling')"
   ]
  },
  {
   "cell_type": "code",
   "execution_count": 42,
   "metadata": {},
   "outputs": [
    {
     "data": {
      "text/plain": [
       "20"
      ]
     },
     "execution_count": 42,
     "metadata": {},
     "output_type": "execute_result"
    }
   ],
   "source": [
    "len(skatteväxling.län.unique())"
   ]
  },
  {
   "cell_type": "markdown",
   "metadata": {},
   "source": [
    "### Nollställ de kommuner där det skett skatteväxling"
   ]
  },
  {
   "cell_type": "code",
   "execution_count": 43,
   "metadata": {},
   "outputs": [],
   "source": [
    "df = ph.copy()"
   ]
  },
  {
   "cell_type": "code",
   "execution_count": 44,
   "metadata": {},
   "outputs": [],
   "source": [
    "skatteväxling.år = skatteväxling.år.astype('int')"
   ]
  },
  {
   "cell_type": "code",
   "execution_count": 45,
   "metadata": {},
   "outputs": [
    {
     "data": {
      "text/html": [
       "<div>\n",
       "<style scoped>\n",
       "    .dataframe tbody tr th:only-of-type {\n",
       "        vertical-align: middle;\n",
       "    }\n",
       "\n",
       "    .dataframe tbody tr th {\n",
       "        vertical-align: top;\n",
       "    }\n",
       "\n",
       "    .dataframe thead th {\n",
       "        text-align: right;\n",
       "    }\n",
       "</style>\n",
       "<table border=\"1\" class=\"dataframe\">\n",
       "  <thead>\n",
       "    <tr style=\"text-align: right;\">\n",
       "      <th></th>\n",
       "      <th>län</th>\n",
       "      <th>år</th>\n",
       "      <th>skatteväxling</th>\n",
       "    </tr>\n",
       "  </thead>\n",
       "  <tbody>\n",
       "    <tr>\n",
       "      <th>0</th>\n",
       "      <td>Stockholm</td>\n",
       "      <td>2002</td>\n",
       "      <td>0.0</td>\n",
       "    </tr>\n",
       "    <tr>\n",
       "      <th>1</th>\n",
       "      <td>Uppsala</td>\n",
       "      <td>2002</td>\n",
       "      <td>0.0</td>\n",
       "    </tr>\n",
       "    <tr>\n",
       "      <th>2</th>\n",
       "      <td>Södermanland</td>\n",
       "      <td>2002</td>\n",
       "      <td>0.0</td>\n",
       "    </tr>\n",
       "    <tr>\n",
       "      <th>3</th>\n",
       "      <td>Östergötland</td>\n",
       "      <td>2002</td>\n",
       "      <td>0.0</td>\n",
       "    </tr>\n",
       "    <tr>\n",
       "      <th>4</th>\n",
       "      <td>Jönköping</td>\n",
       "      <td>2002</td>\n",
       "      <td>0.0</td>\n",
       "    </tr>\n",
       "  </tbody>\n",
       "</table>\n",
       "</div>"
      ],
      "text/plain": [
       "            län    år  skatteväxling\n",
       "0     Stockholm  2002            0.0\n",
       "1       Uppsala  2002            0.0\n",
       "2  Södermanland  2002            0.0\n",
       "3  Östergötland  2002            0.0\n",
       "4     Jönköping  2002            0.0"
      ]
     },
     "execution_count": 45,
     "metadata": {},
     "output_type": "execute_result"
    }
   ],
   "source": [
    "skatteväxling.head()"
   ]
  },
  {
   "cell_type": "code",
   "execution_count": 46,
   "metadata": {},
   "outputs": [],
   "source": [
    "df = df.merge(skatteväxling,on=['län','år'],how='left')"
   ]
  },
  {
   "cell_type": "code",
   "execution_count": 47,
   "metadata": {},
   "outputs": [
    {
     "data": {
      "text/plain": [
       "Index(['län', 'kommun', 'år', 'totalt', 'kommunskatt', 'landstingsskatt',\n",
       "       'förändring_kommunskatt', 'förändring_landstingsskatt',\n",
       "       'skatteväxling'],\n",
       "      dtype='object')"
      ]
     },
     "execution_count": 47,
     "metadata": {},
     "output_type": "execute_result"
    }
   ],
   "source": [
    "df.columns"
   ]
  },
  {
   "cell_type": "code",
   "execution_count": 48,
   "metadata": {},
   "outputs": [
    {
     "data": {
      "text/plain": [
       "(5202, 9)"
      ]
     },
     "execution_count": 48,
     "metadata": {},
     "output_type": "execute_result"
    }
   ],
   "source": [
    "df.shape"
   ]
  },
  {
   "cell_type": "code",
   "execution_count": 49,
   "metadata": {},
   "outputs": [
    {
     "data": {
      "text/html": [
       "<div>\n",
       "<style scoped>\n",
       "    .dataframe tbody tr th:only-of-type {\n",
       "        vertical-align: middle;\n",
       "    }\n",
       "\n",
       "    .dataframe tbody tr th {\n",
       "        vertical-align: top;\n",
       "    }\n",
       "\n",
       "    .dataframe thead th {\n",
       "        text-align: right;\n",
       "    }\n",
       "</style>\n",
       "<table border=\"1\" class=\"dataframe\">\n",
       "  <thead>\n",
       "    <tr style=\"text-align: right;\">\n",
       "      <th></th>\n",
       "      <th>län</th>\n",
       "      <th>kommun</th>\n",
       "      <th>år</th>\n",
       "      <th>totalt</th>\n",
       "      <th>kommunskatt</th>\n",
       "      <th>landstingsskatt</th>\n",
       "      <th>förändring_kommunskatt</th>\n",
       "      <th>förändring_landstingsskatt</th>\n",
       "      <th>skatteväxling</th>\n",
       "    </tr>\n",
       "  </thead>\n",
       "  <tbody>\n",
       "    <tr>\n",
       "      <th>0</th>\n",
       "      <td>Stockholm</td>\n",
       "      <td>Upplands Väsby</td>\n",
       "      <td>2001</td>\n",
       "      <td>29.90</td>\n",
       "      <td>19.58</td>\n",
       "      <td>10.32</td>\n",
       "      <td>0.0</td>\n",
       "      <td>0.00</td>\n",
       "      <td>NaN</td>\n",
       "    </tr>\n",
       "    <tr>\n",
       "      <th>1</th>\n",
       "      <td>Stockholm</td>\n",
       "      <td>Upplands Väsby</td>\n",
       "      <td>2002</td>\n",
       "      <td>29.90</td>\n",
       "      <td>19.58</td>\n",
       "      <td>10.32</td>\n",
       "      <td>0.0</td>\n",
       "      <td>0.00</td>\n",
       "      <td>0.0</td>\n",
       "    </tr>\n",
       "    <tr>\n",
       "      <th>2</th>\n",
       "      <td>Stockholm</td>\n",
       "      <td>Upplands Väsby</td>\n",
       "      <td>2003</td>\n",
       "      <td>31.20</td>\n",
       "      <td>19.58</td>\n",
       "      <td>11.62</td>\n",
       "      <td>0.0</td>\n",
       "      <td>1.30</td>\n",
       "      <td>0.0</td>\n",
       "    </tr>\n",
       "    <tr>\n",
       "      <th>3</th>\n",
       "      <td>Stockholm</td>\n",
       "      <td>Upplands Väsby</td>\n",
       "      <td>2004</td>\n",
       "      <td>31.85</td>\n",
       "      <td>19.58</td>\n",
       "      <td>12.27</td>\n",
       "      <td>0.0</td>\n",
       "      <td>0.65</td>\n",
       "      <td>0.0</td>\n",
       "    </tr>\n",
       "    <tr>\n",
       "      <th>4</th>\n",
       "      <td>Stockholm</td>\n",
       "      <td>Upplands Väsby</td>\n",
       "      <td>2005</td>\n",
       "      <td>31.85</td>\n",
       "      <td>19.58</td>\n",
       "      <td>12.27</td>\n",
       "      <td>0.0</td>\n",
       "      <td>0.00</td>\n",
       "      <td>0.0</td>\n",
       "    </tr>\n",
       "  </tbody>\n",
       "</table>\n",
       "</div>"
      ],
      "text/plain": [
       "         län          kommun    år  totalt  kommunskatt  landstingsskatt  \\\n",
       "0  Stockholm  Upplands Väsby  2001   29.90        19.58            10.32   \n",
       "1  Stockholm  Upplands Väsby  2002   29.90        19.58            10.32   \n",
       "2  Stockholm  Upplands Väsby  2003   31.20        19.58            11.62   \n",
       "3  Stockholm  Upplands Väsby  2004   31.85        19.58            12.27   \n",
       "4  Stockholm  Upplands Väsby  2005   31.85        19.58            12.27   \n",
       "\n",
       "   förändring_kommunskatt  förändring_landstingsskatt  skatteväxling  \n",
       "0                     0.0                        0.00            NaN  \n",
       "1                     0.0                        0.00            0.0  \n",
       "2                     0.0                        1.30            0.0  \n",
       "3                     0.0                        0.65            0.0  \n",
       "4                     0.0                        0.00            0.0  "
      ]
     },
     "execution_count": 49,
     "metadata": {},
     "output_type": "execute_result"
    }
   ],
   "source": [
    "df.head()"
   ]
  },
  {
   "cell_type": "code",
   "execution_count": 50,
   "metadata": {},
   "outputs": [],
   "source": [
    "import numpy as np"
   ]
  },
  {
   "cell_type": "markdown",
   "metadata": {},
   "source": [
    "Först några funktioner som kommer utföra alla beräkningar grundat på vilka tal som finns i serierna (fanns problem med uträkningar med positiva/negativa tal som inte gick att få ihop):"
   ]
  },
  {
   "cell_type": "code",
   "execution_count": 51,
   "metadata": {},
   "outputs": [],
   "source": [
    "def neg_negatives_calc(df,series,col):\n",
    "    negs = df.loc[df[series]<0]\n",
    "    negs['koll'] = 'neg_negatives_calc'\n",
    "    rest = df.loc[df[series]>=0]\n",
    "    negs['justerad_förändring'] = (negs[series] - negs[col]).round(2)\n",
    "    df = pd.concat([negs,rest])\n",
    "    return df\n",
    "\n",
    "def neg_positives_calc(df,series,col):\n",
    "    pos = df.loc[df[series]>0]\n",
    "    pos['koll'] = 'neg_positives_calc'\n",
    "    rest = df.loc[df[series]<=0]\n",
    "    pos['justerad_förändring'] = (pos[series] + pos[col]).round(2)\n",
    "    df = pd.concat([pos,rest])\n",
    "    return df\n",
    "\n",
    "def pos_negatives_calc(df,series,col):\n",
    "    negs = df.loc[df[series]<0]\n",
    "    negs['koll'] = 'pos_negatives_calc'\n",
    "    rest = df.loc[df[series]>=0]\n",
    "    negs['justerad_förändring'] = ((negs[series]) + negs[col]).round(2)\n",
    "    df = pd.concat([negs,rest])\n",
    "    return df\n",
    "\n",
    "def pos_positives_calc(df,series,col):\n",
    "    pos = df.loc[df[series]>0]\n",
    "    pos['koll'] = 'pos_positives_calc'\n",
    "    rest = df.loc[df[series]<=0]\n",
    "    pos['justerad_förändring'] = (pos[series] + pos[col]).round(2)\n",
    "    df = pd.concat([pos,rest])\n",
    "    return df\n",
    "\n",
    "def zero_negatives_calc(df,series,col):\n",
    "    zeros = df.loc[df[series]==0]\n",
    "    zeros['koll'] = 'zero_negatives_calc'\n",
    "    rest = df.loc[df[series]!=0]\n",
    "    zeros['justerad_förändring'] = (zeros[series] + zeros[col]).round(2)\n",
    "    df = pd.concat([zeros,rest])\n",
    "    return df\n",
    "\n",
    "def zero_positives_calc(df,series,col):\n",
    "    zeros = df.loc[df[series]==0]\n",
    "    zeros['koll'] = 'zero_positives_calc'\n",
    "    rest = df.loc[df[series]!=0]\n",
    "    zeros['justerad_förändring'] = (zeros[series] - zeros[col]).round(2)\n",
    "    df = pd.concat([zeros,rest])\n",
    "    return df"
   ]
  },
  {
   "cell_type": "code",
   "execution_count": 52,
   "metadata": {},
   "outputs": [],
   "source": [
    "def neutralisering(df,förändring,skatteväxling):\n",
    "    \"\"\"Huvudsaklig funktion som utför korrekt justering \\\n",
    "av kolumnen 'justerad_förändring'. Resultatet blir att \\\n",
    "kolumnen får alla korrekt usterade värden där skatteväxling \\\n",
    "är borträknat från ev höjningar/sänkningar.\"\"\"\n",
    "    \n",
    "    df['koll'] = np.nan\n",
    "    \n",
    "    negatives = df.loc[df[skatteväxling]<0]\n",
    "    \n",
    "    for func in [neg_negatives_calc,neg_positives_calc]:\n",
    "        negatives = func(negatives,förändring,skatteväxling)\n",
    "    \n",
    "    positives = df.loc[df[skatteväxling]>0]\n",
    "    for func in [pos_negatives_calc,pos_positives_calc]:\n",
    "        positives = func(positives,förändring,skatteväxling)\n",
    "        \n",
    "    zeros = pd.concat([negatives,positives])\n",
    "    for func in [zero_negatives_calc,zero_positives_calc]:\n",
    "        zeros = func(zeros,förändring,skatteväxling)\n",
    "    \n",
    "    neutral = df.loc[(df[skatteväxling]==0)]\n",
    "    neutral['justerad_förändring'] = neutral[förändring]\n",
    "    \n",
    "    neutral = pd.concat([neutral,zeros])\n",
    "    \n",
    "    return neutral[['län','kommun','år','totalt','kommunskatt','förändring_kommunskatt','skatteväxling','justerad_förändring', 'koll']]"
   ]
  },
  {
   "cell_type": "code",
   "execution_count": 53,
   "metadata": {},
   "outputs": [],
   "source": [
    "test = neutralisering(df,'förändring_kommunskatt','skatteväxling')"
   ]
  },
  {
   "cell_type": "code",
   "execution_count": 54,
   "metadata": {},
   "outputs": [],
   "source": [
    "test = test.sort_values(['kommun','år'])"
   ]
  },
  {
   "cell_type": "markdown",
   "metadata": {},
   "source": [
    "Nedan följer några kontrollräkningar:"
   ]
  },
  {
   "cell_type": "code",
   "execution_count": 55,
   "metadata": {},
   "outputs": [
    {
     "data": {
      "text/html": [
       "<div>\n",
       "<style scoped>\n",
       "    .dataframe tbody tr th:only-of-type {\n",
       "        vertical-align: middle;\n",
       "    }\n",
       "\n",
       "    .dataframe tbody tr th {\n",
       "        vertical-align: top;\n",
       "    }\n",
       "\n",
       "    .dataframe thead th {\n",
       "        text-align: right;\n",
       "    }\n",
       "</style>\n",
       "<table border=\"1\" class=\"dataframe\">\n",
       "  <thead>\n",
       "    <tr style=\"text-align: right;\">\n",
       "      <th></th>\n",
       "      <th>län</th>\n",
       "      <th>kommun</th>\n",
       "      <th>år</th>\n",
       "      <th>totalt</th>\n",
       "      <th>kommunskatt</th>\n",
       "      <th>förändring_kommunskatt</th>\n",
       "      <th>skatteväxling</th>\n",
       "      <th>justerad_förändring</th>\n",
       "      <th>koll</th>\n",
       "    </tr>\n",
       "  </thead>\n",
       "  <tbody>\n",
       "    <tr>\n",
       "      <th>4836</th>\n",
       "      <td>Västerbotten</td>\n",
       "      <td>Dorotea</td>\n",
       "      <td>2013</td>\n",
       "      <td>34.20</td>\n",
       "      <td>23.90</td>\n",
       "      <td>1.00</td>\n",
       "      <td>-0.20</td>\n",
       "      <td>0.80</td>\n",
       "      <td>neg_positives_calc</td>\n",
       "    </tr>\n",
       "    <tr>\n",
       "      <th>1218</th>\n",
       "      <td>Jönköping</td>\n",
       "      <td>Eksjö</td>\n",
       "      <td>2013</td>\n",
       "      <td>33.07</td>\n",
       "      <td>22.41</td>\n",
       "      <td>0.84</td>\n",
       "      <td>-0.34</td>\n",
       "      <td>0.50</td>\n",
       "      <td>neg_positives_calc</td>\n",
       "    </tr>\n",
       "    <tr>\n",
       "      <th>1038</th>\n",
       "      <td>Jönköping</td>\n",
       "      <td>Gnosjö</td>\n",
       "      <td>2013</td>\n",
       "      <td>33.05</td>\n",
       "      <td>22.39</td>\n",
       "      <td>0.59</td>\n",
       "      <td>-0.34</td>\n",
       "      <td>0.25</td>\n",
       "      <td>neg_positives_calc</td>\n",
       "    </tr>\n",
       "    <tr>\n",
       "      <th>1074</th>\n",
       "      <td>Jönköping</td>\n",
       "      <td>Habo</td>\n",
       "      <td>2013</td>\n",
       "      <td>33.08</td>\n",
       "      <td>22.42</td>\n",
       "      <td>1.09</td>\n",
       "      <td>-0.34</td>\n",
       "      <td>0.75</td>\n",
       "      <td>neg_positives_calc</td>\n",
       "    </tr>\n",
       "    <tr>\n",
       "      <th>4260</th>\n",
       "      <td>Gävleborg</td>\n",
       "      <td>Hofors</td>\n",
       "      <td>2013</td>\n",
       "      <td>34.52</td>\n",
       "      <td>23.01</td>\n",
       "      <td>0.12</td>\n",
       "      <td>-0.22</td>\n",
       "      <td>-0.10</td>\n",
       "      <td>neg_positives_calc</td>\n",
       "    </tr>\n",
       "    <tr>\n",
       "      <th>1393</th>\n",
       "      <td>Kalmar</td>\n",
       "      <td>Högsby</td>\n",
       "      <td>2008</td>\n",
       "      <td>32.33</td>\n",
       "      <td>22.12</td>\n",
       "      <td>0.16</td>\n",
       "      <td>-0.26</td>\n",
       "      <td>-0.10</td>\n",
       "      <td>neg_positives_calc</td>\n",
       "    </tr>\n",
       "    <tr>\n",
       "      <th>4998</th>\n",
       "      <td>Norrbotten</td>\n",
       "      <td>Jokkmokk</td>\n",
       "      <td>2013</td>\n",
       "      <td>33.13</td>\n",
       "      <td>22.95</td>\n",
       "      <td>0.72</td>\n",
       "      <td>-0.22</td>\n",
       "      <td>0.50</td>\n",
       "      <td>neg_positives_calc</td>\n",
       "    </tr>\n",
       "    <tr>\n",
       "      <th>87</th>\n",
       "      <td>Stockholm</td>\n",
       "      <td>Järfälla</td>\n",
       "      <td>2016</td>\n",
       "      <td>31.23</td>\n",
       "      <td>19.15</td>\n",
       "      <td>0.17</td>\n",
       "      <td>-0.02</td>\n",
       "      <td>0.15</td>\n",
       "      <td>neg_positives_calc</td>\n",
       "    </tr>\n",
       "    <tr>\n",
       "      <th>1003</th>\n",
       "      <td>Östergötland</td>\n",
       "      <td>Mjölby</td>\n",
       "      <td>2014</td>\n",
       "      <td>32.60</td>\n",
       "      <td>21.93</td>\n",
       "      <td>1.20</td>\n",
       "      <td>-0.25</td>\n",
       "      <td>0.95</td>\n",
       "      <td>neg_positives_calc</td>\n",
       "    </tr>\n",
       "    <tr>\n",
       "      <th>4296</th>\n",
       "      <td>Gävleborg</td>\n",
       "      <td>Nordanstig</td>\n",
       "      <td>2013</td>\n",
       "      <td>34.12</td>\n",
       "      <td>22.61</td>\n",
       "      <td>0.47</td>\n",
       "      <td>-0.22</td>\n",
       "      <td>0.25</td>\n",
       "      <td>neg_positives_calc</td>\n",
       "    </tr>\n",
       "    <tr>\n",
       "      <th>675</th>\n",
       "      <td>Södermanland</td>\n",
       "      <td>Oxelösund</td>\n",
       "      <td>2010</td>\n",
       "      <td>32.45</td>\n",
       "      <td>22.28</td>\n",
       "      <td>1.00</td>\n",
       "      <td>-0.20</td>\n",
       "      <td>0.80</td>\n",
       "      <td>neg_positives_calc</td>\n",
       "    </tr>\n",
       "    <tr>\n",
       "      <th>303</th>\n",
       "      <td>Stockholm</td>\n",
       "      <td>Stockholm</td>\n",
       "      <td>2016</td>\n",
       "      <td>29.98</td>\n",
       "      <td>17.90</td>\n",
       "      <td>0.22</td>\n",
       "      <td>-0.02</td>\n",
       "      <td>0.20</td>\n",
       "      <td>neg_positives_calc</td>\n",
       "    </tr>\n",
       "    <tr>\n",
       "      <th>765</th>\n",
       "      <td>Södermanland</td>\n",
       "      <td>Trosa</td>\n",
       "      <td>2010</td>\n",
       "      <td>31.63</td>\n",
       "      <td>21.46</td>\n",
       "      <td>0.18</td>\n",
       "      <td>-0.20</td>\n",
       "      <td>-0.02</td>\n",
       "      <td>neg_positives_calc</td>\n",
       "    </tr>\n",
       "    <tr>\n",
       "      <th>1573</th>\n",
       "      <td>Kalmar</td>\n",
       "      <td>Vimmerby</td>\n",
       "      <td>2008</td>\n",
       "      <td>32.48</td>\n",
       "      <td>22.27</td>\n",
       "      <td>0.66</td>\n",
       "      <td>-0.26</td>\n",
       "      <td>0.40</td>\n",
       "      <td>neg_positives_calc</td>\n",
       "    </tr>\n",
       "    <tr>\n",
       "      <th>4731</th>\n",
       "      <td>Västerbotten</td>\n",
       "      <td>Vindeln</td>\n",
       "      <td>2016</td>\n",
       "      <td>34.45</td>\n",
       "      <td>23.65</td>\n",
       "      <td>0.55</td>\n",
       "      <td>-0.05</td>\n",
       "      <td>0.50</td>\n",
       "      <td>neg_positives_calc</td>\n",
       "    </tr>\n",
       "  </tbody>\n",
       "</table>\n",
       "</div>"
      ],
      "text/plain": [
       "               län      kommun    år  totalt  kommunskatt  \\\n",
       "4836  Västerbotten     Dorotea  2013   34.20        23.90   \n",
       "1218     Jönköping       Eksjö  2013   33.07        22.41   \n",
       "1038     Jönköping      Gnosjö  2013   33.05        22.39   \n",
       "1074     Jönköping        Habo  2013   33.08        22.42   \n",
       "4260     Gävleborg      Hofors  2013   34.52        23.01   \n",
       "1393        Kalmar      Högsby  2008   32.33        22.12   \n",
       "4998    Norrbotten    Jokkmokk  2013   33.13        22.95   \n",
       "87       Stockholm    Järfälla  2016   31.23        19.15   \n",
       "1003  Östergötland      Mjölby  2014   32.60        21.93   \n",
       "4296     Gävleborg  Nordanstig  2013   34.12        22.61   \n",
       "675   Södermanland   Oxelösund  2010   32.45        22.28   \n",
       "303      Stockholm   Stockholm  2016   29.98        17.90   \n",
       "765   Södermanland       Trosa  2010   31.63        21.46   \n",
       "1573        Kalmar    Vimmerby  2008   32.48        22.27   \n",
       "4731  Västerbotten     Vindeln  2016   34.45        23.65   \n",
       "\n",
       "      förändring_kommunskatt  skatteväxling  justerad_förändring  \\\n",
       "4836                    1.00          -0.20                 0.80   \n",
       "1218                    0.84          -0.34                 0.50   \n",
       "1038                    0.59          -0.34                 0.25   \n",
       "1074                    1.09          -0.34                 0.75   \n",
       "4260                    0.12          -0.22                -0.10   \n",
       "1393                    0.16          -0.26                -0.10   \n",
       "4998                    0.72          -0.22                 0.50   \n",
       "87                      0.17          -0.02                 0.15   \n",
       "1003                    1.20          -0.25                 0.95   \n",
       "4296                    0.47          -0.22                 0.25   \n",
       "675                     1.00          -0.20                 0.80   \n",
       "303                     0.22          -0.02                 0.20   \n",
       "765                     0.18          -0.20                -0.02   \n",
       "1573                    0.66          -0.26                 0.40   \n",
       "4731                    0.55          -0.05                 0.50   \n",
       "\n",
       "                    koll  \n",
       "4836  neg_positives_calc  \n",
       "1218  neg_positives_calc  \n",
       "1038  neg_positives_calc  \n",
       "1074  neg_positives_calc  \n",
       "4260  neg_positives_calc  \n",
       "1393  neg_positives_calc  \n",
       "4998  neg_positives_calc  \n",
       "87    neg_positives_calc  \n",
       "1003  neg_positives_calc  \n",
       "4296  neg_positives_calc  \n",
       "675   neg_positives_calc  \n",
       "303   neg_positives_calc  \n",
       "765   neg_positives_calc  \n",
       "1573  neg_positives_calc  \n",
       "4731  neg_positives_calc  "
      ]
     },
     "execution_count": 55,
     "metadata": {},
     "output_type": "execute_result"
    }
   ],
   "source": [
    "test.loc[(test['justerad_förändring']!=0)&(test['förändring_kommunskatt']>0)&(test['skatteväxling']<0)]"
   ]
  },
  {
   "cell_type": "markdown",
   "metadata": {},
   "source": [
    "### Resultat"
   ]
  },
  {
   "cell_type": "code",
   "execution_count": 56,
   "metadata": {},
   "outputs": [],
   "source": [
    "df = test[['kommun','år','justerad_förändring']]"
   ]
  },
  {
   "cell_type": "code",
   "execution_count": 57,
   "metadata": {},
   "outputs": [],
   "source": [
    "df.loc[df['justerad_förändring']>0,'förändring'] = 'Skattehöjningar'\n",
    "df.loc[df['justerad_förändring']<0,'förändring'] = 'Skattesänkningar'"
   ]
  },
  {
   "cell_type": "code",
   "execution_count": 58,
   "metadata": {},
   "outputs": [],
   "source": [
    "df = df.dropna()"
   ]
  },
  {
   "cell_type": "code",
   "execution_count": 59,
   "metadata": {},
   "outputs": [],
   "source": [
    "df['antal'] = 1"
   ]
  },
  {
   "cell_type": "code",
   "execution_count": 60,
   "metadata": {},
   "outputs": [],
   "source": [
    "df = df.groupby(['år','förändring']).sum().reset_index().drop('justerad_förändring',axis=1)"
   ]
  },
  {
   "cell_type": "code",
   "execution_count": 61,
   "metadata": {},
   "outputs": [],
   "source": [
    "os.makedirs('res')"
   ]
  },
  {
   "cell_type": "code",
   "execution_count": 62,
   "metadata": {},
   "outputs": [
    {
     "data": {
      "image/png": "[encoded data removed]",
      "text/plain": [
       "<Figure size 1008x648 with 1 Axes>"
      ]
     },
     "metadata": {
      "needs_background": "light"
     },
     "output_type": "display_data"
    }
   ],
   "source": [
    "fig, ax = plt.subplots(figsize=(14,9))\n",
    "sns.lineplot(x='år',y='antal',data=df,hue='förändring',style='förändring',markers=['o','o'],ax=ax,lw=3,markersize=10)\n",
    "plt.grid(True,axis='y',alpha=0.3)\n",
    "plt.title('Antal höjningar och sänkingar av kommunalskatten \\\n",
    "- exkl skatteväxlingar \\n åren 2002-2018',\n",
    "          fontsize=20)\n",
    "plt.xlabel('År',fontsize=15)\n",
    "plt.ylabel('Antal kommuner',fontsize=15)\n",
    "plt.savefig('res/skatteförändringar_02-18.png',dpi=200)"
   ]
  },
  {
   "cell_type": "code",
   "execution_count": 63,
   "metadata": {},
   "outputs": [],
   "source": [
    "test.pivot_table(index=['län','kommun'],columns='år',values=['totalt','kommunskatt','förändring_kommunskatt','skatteväxling','justerad_förändring']).reset_index().to_excel('res/totaltabell.xlsx')"
   ]
  },
  {
   "cell_type": "code",
   "execution_count": 64,
   "metadata": {},
   "outputs": [],
   "source": [
    "df.to_excel('res/överblick_skatteförändringar.xlsx',index=False)"
   ]
  },
  {
   "cell_type": "markdown",
   "metadata": {},
   "source": [
    "\n",
    "**BONUS**\n",
    "\n",
    "Måns fick idén att vi borde kolla ifall de kommuner som hade högst skatt 2002 också hade höjt skatten med mest (bortjusterad skatteväxling) under perioden. Nedan följer en sådan beräkning. Notera att en fjärdedel av alla kommuner 2002 är 72 då varken Gotland eller Knivsta är med."
   ]
  },
  {
   "cell_type": "code",
   "execution_count": 65,
   "metadata": {},
   "outputs": [
    {
     "data": {
      "text/plain": [
       "72.0"
      ]
     },
     "execution_count": 65,
     "metadata": {},
     "output_type": "execute_result"
    }
   ],
   "source": [
    "288/4"
   ]
  },
  {
   "cell_type": "code",
   "execution_count": 66,
   "metadata": {},
   "outputs": [
    {
     "data": {
      "text/html": [
       "<div>\n",
       "<style scoped>\n",
       "    .dataframe tbody tr th:only-of-type {\n",
       "        vertical-align: middle;\n",
       "    }\n",
       "\n",
       "    .dataframe tbody tr th {\n",
       "        vertical-align: top;\n",
       "    }\n",
       "\n",
       "    .dataframe thead th {\n",
       "        text-align: right;\n",
       "    }\n",
       "</style>\n",
       "<table border=\"1\" class=\"dataframe\">\n",
       "  <thead>\n",
       "    <tr style=\"text-align: right;\">\n",
       "      <th></th>\n",
       "      <th>län</th>\n",
       "      <th>kommun</th>\n",
       "      <th>år</th>\n",
       "      <th>totalt</th>\n",
       "      <th>kommunskatt</th>\n",
       "      <th>förändring_kommunskatt</th>\n",
       "      <th>skatteväxling</th>\n",
       "      <th>justerad_förändring</th>\n",
       "      <th>koll</th>\n",
       "    </tr>\n",
       "  </thead>\n",
       "  <tbody>\n",
       "    <tr>\n",
       "      <th>2593</th>\n",
       "      <td>Västra Götaland</td>\n",
       "      <td>Ale</td>\n",
       "      <td>2002</td>\n",
       "      <td>32.25</td>\n",
       "      <td>22.0</td>\n",
       "      <td>0.0</td>\n",
       "      <td>0.0</td>\n",
       "      <td>0.0</td>\n",
       "      <td>NaN</td>\n",
       "    </tr>\n",
       "    <tr>\n",
       "      <th>2594</th>\n",
       "      <td>Västra Götaland</td>\n",
       "      <td>Ale</td>\n",
       "      <td>2003</td>\n",
       "      <td>32.25</td>\n",
       "      <td>22.0</td>\n",
       "      <td>0.0</td>\n",
       "      <td>0.0</td>\n",
       "      <td>0.0</td>\n",
       "      <td>NaN</td>\n",
       "    </tr>\n",
       "    <tr>\n",
       "      <th>2595</th>\n",
       "      <td>Västra Götaland</td>\n",
       "      <td>Ale</td>\n",
       "      <td>2004</td>\n",
       "      <td>32.25</td>\n",
       "      <td>22.0</td>\n",
       "      <td>0.0</td>\n",
       "      <td>0.0</td>\n",
       "      <td>0.0</td>\n",
       "      <td>NaN</td>\n",
       "    </tr>\n",
       "    <tr>\n",
       "      <th>2596</th>\n",
       "      <td>Västra Götaland</td>\n",
       "      <td>Ale</td>\n",
       "      <td>2005</td>\n",
       "      <td>32.45</td>\n",
       "      <td>22.0</td>\n",
       "      <td>0.0</td>\n",
       "      <td>0.0</td>\n",
       "      <td>0.0</td>\n",
       "      <td>NaN</td>\n",
       "    </tr>\n",
       "    <tr>\n",
       "      <th>2597</th>\n",
       "      <td>Västra Götaland</td>\n",
       "      <td>Ale</td>\n",
       "      <td>2006</td>\n",
       "      <td>32.45</td>\n",
       "      <td>22.0</td>\n",
       "      <td>0.0</td>\n",
       "      <td>0.0</td>\n",
       "      <td>0.0</td>\n",
       "      <td>NaN</td>\n",
       "    </tr>\n",
       "  </tbody>\n",
       "</table>\n",
       "</div>"
      ],
      "text/plain": [
       "                  län kommun    år  totalt  kommunskatt  \\\n",
       "2593  Västra Götaland    Ale  2002   32.25         22.0   \n",
       "2594  Västra Götaland    Ale  2003   32.25         22.0   \n",
       "2595  Västra Götaland    Ale  2004   32.25         22.0   \n",
       "2596  Västra Götaland    Ale  2005   32.45         22.0   \n",
       "2597  Västra Götaland    Ale  2006   32.45         22.0   \n",
       "\n",
       "      förändring_kommunskatt  skatteväxling  justerad_förändring koll  \n",
       "2593                     0.0            0.0                  0.0  NaN  \n",
       "2594                     0.0            0.0                  0.0  NaN  \n",
       "2595                     0.0            0.0                  0.0  NaN  \n",
       "2596                     0.0            0.0                  0.0  NaN  \n",
       "2597                     0.0            0.0                  0.0  NaN  "
      ]
     },
     "execution_count": 66,
     "metadata": {},
     "output_type": "execute_result"
    }
   ],
   "source": [
    "test.head()"
   ]
  },
  {
   "cell_type": "code",
   "execution_count": 67,
   "metadata": {},
   "outputs": [],
   "source": [
    "lägst = test.loc[test['år']==2002].sort_values('kommunskatt').iloc[1:].kommun.head(72).tolist()\n",
    "högst = test.loc[test['år']==2002].sort_values('kommunskatt').iloc[1:].kommun.tail(72).tolist()"
   ]
  },
  {
   "cell_type": "code",
   "execution_count": 68,
   "metadata": {},
   "outputs": [],
   "source": [
    "tmp = test.pivot_table(index=['län','kommun'],columns='år',values='justerad_förändring').reset_index()#.sum(axis=1)\n",
    "tmp['res'] = tmp.sum(axis=1)\n",
    "tmp = tmp[['kommun','res']]"
   ]
  },
  {
   "cell_type": "code",
   "execution_count": 69,
   "metadata": {},
   "outputs": [
    {
     "data": {
      "text/plain": [
       "20.450000000000017"
      ]
     },
     "execution_count": 69,
     "metadata": {},
     "output_type": "execute_result"
    }
   ],
   "source": [
    "tmp.loc[tmp['kommun'].isin(högst)].res.sum()"
   ]
  },
  {
   "cell_type": "code",
   "execution_count": 70,
   "metadata": {},
   "outputs": [
    {
     "data": {
      "text/plain": [
       "48.280000000000015"
      ]
     },
     "execution_count": 70,
     "metadata": {},
     "output_type": "execute_result"
    }
   ],
   "source": [
    "tmp.loc[tmp['kommun'].isin(lägst)].res.sum()"
   ]
  },
  {
   "cell_type": "markdown",
   "metadata": {},
   "source": [
    "Med andra ord: de kommuner som har hade högst skatt 2002 har sedan högt skatten betydligt mindre än de som hade lägst skatt samma år!"
   ]
  },
  {
   "cell_type": "code",
   "execution_count": 71,
   "metadata": {},
   "outputs": [
    {
     "data": {
      "text/html": [
       "<div>\n",
       "<style scoped>\n",
       "    .dataframe tbody tr th:only-of-type {\n",
       "        vertical-align: middle;\n",
       "    }\n",
       "\n",
       "    .dataframe tbody tr th {\n",
       "        vertical-align: top;\n",
       "    }\n",
       "\n",
       "    .dataframe thead th {\n",
       "        text-align: right;\n",
       "    }\n",
       "</style>\n",
       "<table border=\"1\" class=\"dataframe\">\n",
       "  <thead>\n",
       "    <tr style=\"text-align: right;\">\n",
       "      <th></th>\n",
       "      <th>år</th>\n",
       "      <th>förändring</th>\n",
       "      <th>antal</th>\n",
       "    </tr>\n",
       "  </thead>\n",
       "  <tbody>\n",
       "    <tr>\n",
       "      <th>0</th>\n",
       "      <td>2002</td>\n",
       "      <td>Skattehöjningar</td>\n",
       "      <td>24</td>\n",
       "    </tr>\n",
       "    <tr>\n",
       "      <th>1</th>\n",
       "      <td>2002</td>\n",
       "      <td>Skattesänkningar</td>\n",
       "      <td>11</td>\n",
       "    </tr>\n",
       "    <tr>\n",
       "      <th>2</th>\n",
       "      <td>2003</td>\n",
       "      <td>Skattehöjningar</td>\n",
       "      <td>70</td>\n",
       "    </tr>\n",
       "    <tr>\n",
       "      <th>3</th>\n",
       "      <td>2003</td>\n",
       "      <td>Skattesänkningar</td>\n",
       "      <td>3</td>\n",
       "    </tr>\n",
       "    <tr>\n",
       "      <th>4</th>\n",
       "      <td>2004</td>\n",
       "      <td>Skattehöjningar</td>\n",
       "      <td>59</td>\n",
       "    </tr>\n",
       "  </tbody>\n",
       "</table>\n",
       "</div>"
      ],
      "text/plain": [
       "     år        förändring  antal\n",
       "0  2002   Skattehöjningar     24\n",
       "1  2002  Skattesänkningar     11\n",
       "2  2003   Skattehöjningar     70\n",
       "3  2003  Skattesänkningar      3\n",
       "4  2004   Skattehöjningar     59"
      ]
     },
     "execution_count": 71,
     "metadata": {},
     "output_type": "execute_result"
    }
   ],
   "source": [
    "df.head()"
   ]
  },
  {
   "cell_type": "code",
   "execution_count": 72,
   "metadata": {},
   "outputs": [],
   "source": [
    "höjning = df.loc[df['förändring']==\"Skattehöjningar\"].drop('förändring',axis=1)\n",
    "sänkning = df.loc[df['förändring']==\"Skattesänkningar\"].drop('förändring',axis=1)"
   ]
  },
  {
   "cell_type": "markdown",
   "metadata": {},
   "source": [
    "Jämfört med tidigare uträkning:"
   ]
  },
  {
   "cell_type": "code",
   "execution_count": 73,
   "metadata": {},
   "outputs": [
    {
     "data": {
      "text/html": [
       "<div>\n",
       "<style scoped>\n",
       "    .dataframe tbody tr th:only-of-type {\n",
       "        vertical-align: middle;\n",
       "    }\n",
       "\n",
       "    .dataframe tbody tr th {\n",
       "        vertical-align: top;\n",
       "    }\n",
       "\n",
       "    .dataframe thead th {\n",
       "        text-align: right;\n",
       "    }\n",
       "</style>\n",
       "<table border=\"1\" class=\"dataframe\">\n",
       "  <thead>\n",
       "    <tr style=\"text-align: right;\">\n",
       "      <th></th>\n",
       "      <th>år</th>\n",
       "      <th>antal</th>\n",
       "    </tr>\n",
       "  </thead>\n",
       "  <tbody>\n",
       "    <tr>\n",
       "      <th>0</th>\n",
       "      <td>2002</td>\n",
       "      <td>24</td>\n",
       "    </tr>\n",
       "    <tr>\n",
       "      <th>2</th>\n",
       "      <td>2003</td>\n",
       "      <td>70</td>\n",
       "    </tr>\n",
       "    <tr>\n",
       "      <th>4</th>\n",
       "      <td>2004</td>\n",
       "      <td>59</td>\n",
       "    </tr>\n",
       "    <tr>\n",
       "      <th>6</th>\n",
       "      <td>2005</td>\n",
       "      <td>23</td>\n",
       "    </tr>\n",
       "    <tr>\n",
       "      <th>8</th>\n",
       "      <td>2006</td>\n",
       "      <td>6</td>\n",
       "    </tr>\n",
       "    <tr>\n",
       "      <th>10</th>\n",
       "      <td>2007</td>\n",
       "      <td>7</td>\n",
       "    </tr>\n",
       "    <tr>\n",
       "      <th>12</th>\n",
       "      <td>2008</td>\n",
       "      <td>10</td>\n",
       "    </tr>\n",
       "    <tr>\n",
       "      <th>14</th>\n",
       "      <td>2009</td>\n",
       "      <td>32</td>\n",
       "    </tr>\n",
       "    <tr>\n",
       "      <th>16</th>\n",
       "      <td>2010</td>\n",
       "      <td>19</td>\n",
       "    </tr>\n",
       "    <tr>\n",
       "      <th>18</th>\n",
       "      <td>2011</td>\n",
       "      <td>9</td>\n",
       "    </tr>\n",
       "    <tr>\n",
       "      <th>20</th>\n",
       "      <td>2012</td>\n",
       "      <td>22</td>\n",
       "    </tr>\n",
       "    <tr>\n",
       "      <th>22</th>\n",
       "      <td>2013</td>\n",
       "      <td>24</td>\n",
       "    </tr>\n",
       "    <tr>\n",
       "      <th>24</th>\n",
       "      <td>2014</td>\n",
       "      <td>20</td>\n",
       "    </tr>\n",
       "    <tr>\n",
       "      <th>26</th>\n",
       "      <td>2015</td>\n",
       "      <td>22</td>\n",
       "    </tr>\n",
       "    <tr>\n",
       "      <th>28</th>\n",
       "      <td>2016</td>\n",
       "      <td>25</td>\n",
       "    </tr>\n",
       "    <tr>\n",
       "      <th>30</th>\n",
       "      <td>2017</td>\n",
       "      <td>21</td>\n",
       "    </tr>\n",
       "    <tr>\n",
       "      <th>32</th>\n",
       "      <td>2018</td>\n",
       "      <td>4</td>\n",
       "    </tr>\n",
       "  </tbody>\n",
       "</table>\n",
       "</div>"
      ],
      "text/plain": [
       "      år  antal\n",
       "0   2002     24\n",
       "2   2003     70\n",
       "4   2004     59\n",
       "6   2005     23\n",
       "8   2006      6\n",
       "10  2007      7\n",
       "12  2008     10\n",
       "14  2009     32\n",
       "16  2010     19\n",
       "18  2011      9\n",
       "20  2012     22\n",
       "22  2013     24\n",
       "24  2014     20\n",
       "26  2015     22\n",
       "28  2016     25\n",
       "30  2017     21\n",
       "32  2018      4"
      ]
     },
     "execution_count": 73,
     "metadata": {},
     "output_type": "execute_result"
    }
   ],
   "source": [
    "höjning"
   ]
  },
  {
   "cell_type": "code",
   "execution_count": 74,
   "metadata": {},
   "outputs": [],
   "source": [
    "sänkning=sänkning.år.value_counts().reset_index().rename(columns={'index':'år','år':'antal'}).sort_values('år')"
   ]
  },
  {
   "cell_type": "markdown",
   "metadata": {},
   "source": [
    "**Antalet skatteökningar/-minskningar de senaste fem åren**"
   ]
  },
  {
   "cell_type": "code",
   "execution_count": 75,
   "metadata": {},
   "outputs": [
    {
     "data": {
      "text/plain": [
       "<matplotlib.axes._subplots.AxesSubplot at 0x115124278>"
      ]
     },
     "execution_count": 75,
     "metadata": {},
     "output_type": "execute_result"
    },
    {
     "data": {
      "image/png": "[encoded data removed]",
      "text/plain": [
       "<Figure size 432x288 with 1 Axes>"
      ]
     },
     "metadata": {
      "needs_background": "light"
     },
     "output_type": "display_data"
    }
   ],
   "source": [
    "höjning.iloc[4:].set_index('år').plot()"
   ]
  },
  {
   "cell_type": "code",
   "execution_count": 76,
   "metadata": {},
   "outputs": [
    {
     "data": {
      "text/plain": [
       "<matplotlib.axes._subplots.AxesSubplot at 0x119aba7b8>"
      ]
     },
     "execution_count": 76,
     "metadata": {},
     "output_type": "execute_result"
    },
    {
     "data": {
      "image/png": "[encoded data removed]",
      "text/plain": [
       "<Figure size 432x288 with 1 Axes>"
      ]
     },
     "metadata": {
      "needs_background": "light"
     },
     "output_type": "display_data"
    }
   ],
   "source": [
    "höjning.set_index('år').plot()"
   ]
  },
  {
   "cell_type": "code",
   "execution_count": 77,
   "metadata": {},
   "outputs": [
    {
     "data": {
      "text/plain": [
       "<matplotlib.axes._subplots.AxesSubplot at 0x119a07be0>"
      ]
     },
     "execution_count": 77,
     "metadata": {},
     "output_type": "execute_result"
    },
    {
     "data": {
      "image/png": "[encoded data removed]",
      "text/plain": [
       "<Figure size 432x288 with 1 Axes>"
      ]
     },
     "metadata": {
      "needs_background": "light"
     },
     "output_type": "display_data"
    }
   ],
   "source": [
    "höjning.set_index('år').plot(kind='bar')"
   ]
  },
  {
   "cell_type": "code",
   "execution_count": 78,
   "metadata": {},
   "outputs": [
    {
     "data": {
      "text/plain": [
       "<matplotlib.axes._subplots.AxesSubplot at 0x1152115c0>"
      ]
     },
     "execution_count": 78,
     "metadata": {},
     "output_type": "execute_result"
    },
    {
     "data": {
      "image/png": "[encoded data removed]",
      "text/plain": [
       "<Figure size 432x288 with 1 Axes>"
      ]
     },
     "metadata": {
      "needs_background": "light"
     },
     "output_type": "display_data"
    }
   ],
   "source": [
    "sänkning.set_index('år').plot(kind='bar')"
   ]
  },
  {
   "cell_type": "code",
   "execution_count": null,
   "metadata": {},
   "outputs": [],
   "source": []
  },
  {
   "cell_type": "code",
   "execution_count": null,
   "metadata": {},
   "outputs": [],
   "source": []
  },
  {
   "cell_type": "code",
   "execution_count": null,
   "metadata": {},
   "outputs": [],
   "source": []
  },
  {
   "cell_type": "code",
   "execution_count": null,
   "metadata": {},
   "outputs": [],
   "source": []
  },
  {
   "cell_type": "code",
   "execution_count": null,
   "metadata": {},
   "outputs": [],
   "source": []
  }
 ],
 "metadata": {
  "kernelspec": {
   "display_name": "Python 3",
   "language": "python",
   "name": "python3"
  },
  "language_info": {
   "codemirror_mode": {
    "name": "ipython",
    "version": 3
   },
   "file_extension": ".py",
   "mimetype": "text/x-python",
   "name": "python",
   "nbconvert_exporter": "python",
   "pygments_lexer": "ipython3",
   "version": "3.6.2"
  }
 },
 "nbformat": 4,
 "nbformat_minor": 2
}
